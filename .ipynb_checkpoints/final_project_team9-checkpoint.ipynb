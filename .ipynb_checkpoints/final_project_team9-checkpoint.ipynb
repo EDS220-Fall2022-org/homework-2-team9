{
 "cells": [
  {
   "cell_type": "markdown",
   "id": "56a405bf-2d38-4175-a931-f52905e11211",
   "metadata": {},
   "source": [
    "## Moderate Resolution Imaging Spectroradiometer (MODIS) Burned Area "
   ]
  },
  {
   "cell_type": "markdown",
   "id": "dc47afd0-adb0-4d5b-8903-992b7904322e",
   "metadata": {},
   "source": [
    "#### Authors\n",
    "- Michael Zargari, UC Santa Barbara (mzargari@ucsb.edu) \n",
    "https://mzargari.github.io\n",
    "- Dalila Lara, UC Santa Barbara (dalilalara@ucsb.edu) \n",
    "https://dalilalara.github.io\n",
    "- Ruth Enriquez, UC Santa Barbara (rbe786@ucsb.edu) \n",
    "https://ruthe808.github.io"
   ]
  },
  {
   "cell_type": "markdown",
   "id": "1e8c2013-fef1-44ac-bb00-3215807cacac",
   "metadata": {},
   "source": [
    "## Table of Contents\n",
    "\n",
    "Include a summary of the various sections included in your notebook, so that users can easily skip to a section of interest. It's also good to include hyperlinks to the different sections, so that clicking on the heading sends one to that section directly. Examples are below; see also this handy guide to adding hyperlinks to Jupyter notebooks:\n",
    "https://medium.illumidesk.com/jupyter-notebook-little-known-tricks-b0866a558017\n",
    "\n",
    "The major sections you'll need for HW2 - and your group project - are shown below:\n",
    "\n",
    "[1. Purpose](#purpose)\n",
    "\n",
    "[2. Dataset Description](#overview)\n",
    "\n",
    "[3. Data I/O](#io)\n",
    "\n",
    "[4. Metadata Display and Basic Visualization](#display)\n",
    "\n",
    "[5. Use Case Examples](#usecases)\n",
    "\n",
    "[6. Create Binder Environment](#binder)\n",
    "\n",
    "[7. References](#references)"
   ]
  },
  {
   "cell_type": "markdown",
   "id": "ba52c6e3-3584-48be-b500-21578b61bd72",
   "metadata": {},
   "source": [
    "<a id='purpose'></a> \n",
    "### Notebook Purpose\n",
    "\n",
    "This notebook contains a walkthrough of our analysis of the FireCCI51: MODIS Fire_cci Burned Area Pixel Product, Version 5.1 dataset which contains data of burned areas over the continent of Australia from 2001 - 2020. We are conducting this analysis to assess the impact of the 2019 - 2020 Australian bushfire season, known as the Black Summer. The analysis conducted will provide visualizations of vegetation health through the tracking the change of NDVI.\n"
   ]
  },
  {
   "cell_type": "markdown",
   "id": "d429260a-2c30-44da-a5af-e100a440056a",
   "metadata": {
    "jp-MarkdownHeadingCollapsed": true,
    "tags": []
   },
   "source": [
    "<a id='overview'></a> \n",
    "### Dataset Description\n",
    "\n",
    "This portion of the notebook should contain a summary description of your chosen environmental dataset. In a few paragraphs, discuss:\n",
    "- The creators of the dataset: NASA/NOAA/other government agency? Nonprofit? etc.\n",
    "The European Space Agency (ESA) Climate Change Initiative (CCI) Programme, Fire ECV are the providers of the dataset MODIS Fire_cci Burned Area Pixel Product, Version 5.1 that we are using in our analysis. Although the satellite MODIS was launched by NASA in 2001, the ESA then made the dataset available via Google Earth Engine. \n",
    "\n",
    "- Major characteristics of the dataset: global coverage? Spatial resolution? Temporal resolution? Creation date? \n",
    "This dataset contains information on burned area on a monthly global ~250m spatial resolution. The dataset uses surface reflectance in the Near Infrared (NIR) band from the MODIS instrument onboard the Terra satellite launched by NASA, as well as active fire information from the same sensor of the Terra and Aqua satellites.\n",
    "\n",
    "The dataset includes the estimated day of the first detection of the fire, the confidence level of that detection, and the land cover that has been burned for each pixel. In addition, an observation flag is provided to identify the pixels that were not processed due to the lack of valid observations or because they belong to a non-burnable land cover.\n",
    "\n",
    "- The file format(s) used to store the data: netCDF? CSV? Other?\n",
    "The data is in GeoTiff format ussing the CRS World Geodetic System (WGS84) and uses the Plate Carrée projection. \n",
    "\n",
    "- The source/archive you will be using to retrieve the data: Google Earth Engine? Agency data portal? Other API?\n",
    "We are accessing this data via Google Earth Engine using the Earth Engine Snippet. \n",
    "\n",
    "- Any known issues with data quality that might be expected to impact the results\n",
    "There are two issues that we noticed regarding data quality. First is that it was noted that there are pixels that could not be processed because of the lack of quality data or because the pixels show land that cannot be burned in the first place (i.e. water). Secondly, the data stops at the end of 2020. This hinders our ability to track land and vegetation recovery rates into 2022.\n",
    "\n",
    "\n",
    "Include links to any external resources needed to access the data here, including either the location of files stored on an external server you've set up or the access URL for a pre-existing repository. You can also include any example images you find useful for motivating the choice of dataset (optional).\n",
    "\n",
    "<a href=\"https://developers.google.com/earth-engine/datasets/catalog/ESA_CCI_FireCCI_5_1#dois\" >MODIS Fire_cci Burned Area Pixel Product, Version 5.1 </a>"
   ]
  },
  {
   "cell_type": "markdown",
   "id": "02d5cb75-cb54-4708-8b88-459cae2ca17d",
   "metadata": {},
   "source": [
    "<a id='io'></a> \n",
    "### Dataset Input/Output \n",
    "\n",
    "Next, provide code to read in the data necessary for your analysis. This should be in the following order:\n",
    "\n",
    "1) Import all necessary packages (matplotlib, numpy, etc)\n",
    "\n",
    "2) Set any parameters that will be needed during subsequent portions of the notebook. Typical examples of parameters include:\n",
    "- names of any directories where data are stored\n",
    "- ranges of years over which data are valid\n",
    "- any thresholds or latitude/longitude ranges to be used later (e.g. dimensions of NINO3.4 region, threshold SSTA values for El Nino, etc.)\n",
    "\n",
    "3) Read in the data! If the data files are very large, you may want to consider subsetting the portion of files to be read in (see examples of this during notebooks provided in Weeks 7 and 8).\n",
    "\n",
    "Here is a good rule of thumb: It's good to aim for a relatively short amount of time needed to read in the data, since otherwise we'll be sitting around waiting for things to load for a long time. A  minute or two for data I/O is probably the max you'll want to target!"
   ]
  },
  {
   "cell_type": "code",
   "execution_count": 1,
   "id": "c6131e1a-dc8a-4445-b6cc-518ecb9aa9a3",
   "metadata": {},
   "outputs": [],
   "source": [
    "## Importing packages \n",
    "import ee\n",
    "import geemap\n",
    "import pandas as pd\n",
    "import matplotlib.pyplot as plt\n",
    "import numpy as np\n",
    "import cartopy\n",
    "import cartopy.crs as ccrs\n",
    "from geemap import cartoee\n",
    "import matplotlib.pyplot as plt"
   ]
  },
  {
   "cell_type": "code",
   "execution_count": 3,
   "id": "783075dc-46ce-49ad-83a2-247e7b6f4dd8",
   "metadata": {},
   "outputs": [
    {
     "data": {
      "text/html": [
       "<p>To authorize access needed by Earth Engine, open the following\n",
       "        URL in a web browser and follow the instructions:</p>\n",
       "        <p><a href=https://code.earthengine.google.com/client-auth?scopes=https%3A//www.googleapis.com/auth/earthengine%20https%3A//www.googleapis.com/auth/devstorage.full_control&request_id=BAsh-4H5Tgu4TjcB0hqw0JdwYIywSeyOoo8tI3iqSk8&tc=0QSu28tGOnbEmuS9NEgTrkn3NlKHzUanZQx3p19HyTc&cc=OmV5C5uOFX8oFKEKmujyWDcWqrjvlpL5FEsae-wtSJ4>https://code.earthengine.google.com/client-auth?scopes=https%3A//www.googleapis.com/auth/earthengine%20https%3A//www.googleapis.com/auth/devstorage.full_control&request_id=BAsh-4H5Tgu4TjcB0hqw0JdwYIywSeyOoo8tI3iqSk8&tc=0QSu28tGOnbEmuS9NEgTrkn3NlKHzUanZQx3p19HyTc&cc=OmV5C5uOFX8oFKEKmujyWDcWqrjvlpL5FEsae-wtSJ4</a></p>\n",
       "        <p>The authorization workflow will generate a code, which you should paste in the box below.</p>\n",
       "        "
      ],
      "text/plain": [
       "<IPython.core.display.HTML object>"
      ]
     },
     "metadata": {},
     "output_type": "display_data"
    },
    {
     "name": "stdin",
     "output_type": "stream",
     "text": [
      "Enter verification code:  4/1AfgeXvtHhRp0uI8TPovkYjtuiR90VivN6ZMuwF59toFcg4aJ0PyqSzxdN3I\n"
     ]
    },
    {
     "name": "stdout",
     "output_type": "stream",
     "text": [
      "\n",
      "Successfully saved authorization token.\n"
     ]
    }
   ],
   "source": [
    "## Authenticate and initialize GEE\n",
    "#ee.Authenticate()\n",
    "ee.Initialize()"
   ]
  },
  {
   "cell_type": "code",
   "execution_count": 9,
   "id": "3cf90c85-eaac-48f5-9590-3f40ddc2412e",
   "metadata": {},
   "outputs": [],
   "source": [
    "## Reading in the burned area data\n",
    "burned_area = ee.ImageCollection(\"ESA/CCI/FireCCI/5_1\") "
   ]
  },
  {
   "cell_type": "code",
   "execution_count": 18,
   "id": "927f8b95-f1eb-4700-a8e1-5e1e68cbfd6e",
   "metadata": {},
   "outputs": [],
   "source": [
    "## Specifiying area of interest Australia\n",
    "lon = 133.94366873677208\n",
    "lat = -31.14574060196506\n",
    "\n",
    "poi = ee.Geometry.Point(lon, lat)\n",
    "scale = 1000 #scale in m"
   ]
  },
  {
   "cell_type": "markdown",
   "id": "30253e61-0707-4540-9c86-9afc6df27958",
   "metadata": {},
   "source": [
    "<a id='display'></a> \n",
    "### Metadata Display and Basic Visualization\n",
    "\n",
    "Next, provide some example commands to take a quick look at what is in your dataset. We've done some things along these lines in class by now, but you should include at least one of:\n",
    "\n",
    "- Metadata display: commands to indicate a) which variables are included in the dataset and their names; b) coordinate information associated with the data variables; c) other important metadata parameters (site names, etc); and d) any important information on missing data\n",
    "- Basic visualization: a \"quick and dirty\" plot showing generally what the data look like. Depending on your dataset, this could be either a time series or a map (no fancy coordinate reference system/projection needed yet)."
   ]
  },
  {
   "cell_type": "code",
   "execution_count": 19,
   "id": "b9f69de1-e853-4fc4-ba93-31e7351d2a85",
   "metadata": {},
   "outputs": [
    {
     "data": {
      "text/plain": [
       "\"['BurnDate', 'ConfidenceLevel', 'LandCover', 'ObservedFlag']\""
      ]
     },
     "execution_count": 19,
     "metadata": {},
     "output_type": "execute_result"
    }
   ],
   "source": [
    "#Exploring the data \n",
    "#pulling test img \n",
    "test = burned_area.first()\n",
    "#pulling info for test image (columns)\n",
    "bands=test.bandNames()\n",
    "str(bands.getInfo())"
   ]
  },
  {
   "cell_type": "code",
   "execution_count": 20,
   "id": "7fd00278-699c-48fc-868c-9f793d36337f",
   "metadata": {},
   "outputs": [
    {
     "name": "stdout",
     "output_type": "stream",
     "text": [
      "0           id\n",
      "1    longitude\n",
      "2     latitude\n",
      "3         time\n",
      "4    LandCover\n",
      "Name: 0, dtype: object\n",
      "0            id longitude   latitude           time LandCover\n",
      "0    2001_01_01  133.9433 -31.149082   978307200000      None\n",
      "1    2001_02_01  133.9433 -31.149082   980985600000      None\n",
      "2    2001_03_01  133.9433 -31.149082   983404800000      None\n",
      "3    2001_04_01  133.9433 -31.149082   986083200000      None\n",
      "4    2001_05_01  133.9433 -31.149082   988675200000      None\n",
      "..          ...       ...        ...            ...       ...\n",
      "235  2020_08_01  133.9433 -31.149082  1596240000000      None\n",
      "236  2020_09_01  133.9433 -31.149082  1598918400000      None\n",
      "237  2020_10_01  133.9433 -31.149082  1601510400000      None\n",
      "238  2020_11_01  133.9433 -31.149082  1604188800000      None\n",
      "239  2020_12_01  133.9433 -31.149082  1606780800000      None\n",
      "\n",
      "[240 rows x 5 columns]\n"
     ]
    },
    {
     "data": {
      "text/html": [
       "<div>\n",
       "<style scoped>\n",
       "    .dataframe tbody tr th:only-of-type {\n",
       "        vertical-align: middle;\n",
       "    }\n",
       "\n",
       "    .dataframe tbody tr th {\n",
       "        vertical-align: top;\n",
       "    }\n",
       "\n",
       "    .dataframe thead th {\n",
       "        text-align: right;\n",
       "    }\n",
       "</style>\n",
       "<table border=\"1\" class=\"dataframe\">\n",
       "  <thead>\n",
       "    <tr style=\"text-align: right;\">\n",
       "      <th></th>\n",
       "      <th>id</th>\n",
       "      <th>longitude</th>\n",
       "      <th>latitude</th>\n",
       "      <th>time</th>\n",
       "      <th>LandCover</th>\n",
       "      <th>datetime</th>\n",
       "    </tr>\n",
       "  </thead>\n",
       "  <tbody>\n",
       "    <tr>\n",
       "      <th>0</th>\n",
       "      <td>2001_01_01</td>\n",
       "      <td>133.9433</td>\n",
       "      <td>-31.149082</td>\n",
       "      <td>978307200000</td>\n",
       "      <td>None</td>\n",
       "      <td>2001-01-01</td>\n",
       "    </tr>\n",
       "    <tr>\n",
       "      <th>1</th>\n",
       "      <td>2001_02_01</td>\n",
       "      <td>133.9433</td>\n",
       "      <td>-31.149082</td>\n",
       "      <td>980985600000</td>\n",
       "      <td>None</td>\n",
       "      <td>2001-02-01</td>\n",
       "    </tr>\n",
       "    <tr>\n",
       "      <th>2</th>\n",
       "      <td>2001_03_01</td>\n",
       "      <td>133.9433</td>\n",
       "      <td>-31.149082</td>\n",
       "      <td>983404800000</td>\n",
       "      <td>None</td>\n",
       "      <td>2001-03-01</td>\n",
       "    </tr>\n",
       "    <tr>\n",
       "      <th>3</th>\n",
       "      <td>2001_04_01</td>\n",
       "      <td>133.9433</td>\n",
       "      <td>-31.149082</td>\n",
       "      <td>986083200000</td>\n",
       "      <td>None</td>\n",
       "      <td>2001-04-01</td>\n",
       "    </tr>\n",
       "    <tr>\n",
       "      <th>4</th>\n",
       "      <td>2001_05_01</td>\n",
       "      <td>133.9433</td>\n",
       "      <td>-31.149082</td>\n",
       "      <td>988675200000</td>\n",
       "      <td>None</td>\n",
       "      <td>2001-05-01</td>\n",
       "    </tr>\n",
       "    <tr>\n",
       "      <th>...</th>\n",
       "      <td>...</td>\n",
       "      <td>...</td>\n",
       "      <td>...</td>\n",
       "      <td>...</td>\n",
       "      <td>...</td>\n",
       "      <td>...</td>\n",
       "    </tr>\n",
       "    <tr>\n",
       "      <th>235</th>\n",
       "      <td>2020_08_01</td>\n",
       "      <td>133.9433</td>\n",
       "      <td>-31.149082</td>\n",
       "      <td>1596240000000</td>\n",
       "      <td>None</td>\n",
       "      <td>2020-08-01</td>\n",
       "    </tr>\n",
       "    <tr>\n",
       "      <th>236</th>\n",
       "      <td>2020_09_01</td>\n",
       "      <td>133.9433</td>\n",
       "      <td>-31.149082</td>\n",
       "      <td>1598918400000</td>\n",
       "      <td>None</td>\n",
       "      <td>2020-09-01</td>\n",
       "    </tr>\n",
       "    <tr>\n",
       "      <th>237</th>\n",
       "      <td>2020_10_01</td>\n",
       "      <td>133.9433</td>\n",
       "      <td>-31.149082</td>\n",
       "      <td>1601510400000</td>\n",
       "      <td>None</td>\n",
       "      <td>2020-10-01</td>\n",
       "    </tr>\n",
       "    <tr>\n",
       "      <th>238</th>\n",
       "      <td>2020_11_01</td>\n",
       "      <td>133.9433</td>\n",
       "      <td>-31.149082</td>\n",
       "      <td>1604188800000</td>\n",
       "      <td>None</td>\n",
       "      <td>2020-11-01</td>\n",
       "    </tr>\n",
       "    <tr>\n",
       "      <th>239</th>\n",
       "      <td>2020_12_01</td>\n",
       "      <td>133.9433</td>\n",
       "      <td>-31.149082</td>\n",
       "      <td>1606780800000</td>\n",
       "      <td>None</td>\n",
       "      <td>2020-12-01</td>\n",
       "    </tr>\n",
       "  </tbody>\n",
       "</table>\n",
       "<p>240 rows × 6 columns</p>\n",
       "</div>"
      ],
      "text/plain": [
       "0            id longitude   latitude           time LandCover   datetime\n",
       "0    2001_01_01  133.9433 -31.149082   978307200000      None 2001-01-01\n",
       "1    2001_02_01  133.9433 -31.149082   980985600000      None 2001-02-01\n",
       "2    2001_03_01  133.9433 -31.149082   983404800000      None 2001-03-01\n",
       "3    2001_04_01  133.9433 -31.149082   986083200000      None 2001-04-01\n",
       "4    2001_05_01  133.9433 -31.149082   988675200000      None 2001-05-01\n",
       "..          ...       ...        ...            ...       ...        ...\n",
       "235  2020_08_01  133.9433 -31.149082  1596240000000      None 2020-08-01\n",
       "236  2020_09_01  133.9433 -31.149082  1598918400000      None 2020-09-01\n",
       "237  2020_10_01  133.9433 -31.149082  1601510400000      None 2020-10-01\n",
       "238  2020_11_01  133.9433 -31.149082  1604188800000      None 2020-11-01\n",
       "239  2020_12_01  133.9433 -31.149082  1606780800000      None 2020-12-01\n",
       "\n",
       "[240 rows x 6 columns]"
      ]
     },
     "execution_count": 20,
     "metadata": {},
     "output_type": "execute_result"
    }
   ],
   "source": [
    "## Pulling Land Cover from data\n",
    "region = burned_area.select('LandCover')\n",
    "ts = region.getRegion(poi, scale).getInfo()\n",
    "\n",
    "#Transforming the ts into a data frame \n",
    "df_australia = pd.DataFrame(ts)\n",
    "\n",
    "headers=df_australia.loc[0] # Assign the first entry in the data frame to a variable called \"headers\"\n",
    "print(headers) # Look at headers\n",
    "\n",
    "#new data frame with headers as column names \n",
    "df = pd.DataFrame(df_australia.values[1:], columns=headers)     # Make a new data frame out of the old one, but assigning the names we just retrieved as actual column headers\n",
    "#double checking that the headers are now columns \n",
    "print(df)    \n",
    "\n",
    "#now manipulating time column \n",
    "df['datetime'] = pd.to_datetime(df['time'], unit='ms')\n",
    "df"
   ]
  },
  {
   "cell_type": "code",
   "execution_count": 21,
   "id": "2baf44d4-7bfc-4722-be72-8c0c2a286ab5",
   "metadata": {},
   "outputs": [
    {
     "name": "stderr",
     "output_type": "stream",
     "text": [
      "/opt/python/3.10.5/lib/python3.10/site-packages/matplotlib/cbook/__init__.py:1402: FutureWarning: Support for multi-dimensional indexing (e.g. `obj[:, None]`) is deprecated and will be removed in a future version.  Convert to a numpy array before indexing instead.\n",
      "  x[:, None]\n",
      "/opt/python/3.10.5/lib/python3.10/site-packages/matplotlib/axes/_base.py:276: FutureWarning: Support for multi-dimensional indexing (e.g. `obj[:, None]`) is deprecated and will be removed in a future version.  Convert to a numpy array before indexing instead.\n",
      "  x = x[:, np.newaxis]\n",
      "/opt/python/3.10.5/lib/python3.10/site-packages/matplotlib/axes/_base.py:278: FutureWarning: Support for multi-dimensional indexing (e.g. `obj[:, None]`) is deprecated and will be removed in a future version.  Convert to a numpy array before indexing instead.\n",
      "  y = y[:, np.newaxis]\n"
     ]
    },
    {
     "data": {
      "text/plain": [
       "(0, 0.5)"
      ]
     },
     "execution_count": 21,
     "metadata": {},
     "output_type": "execute_result"
    },
    {
     "data": {
      "image/png": "[encoded data removed]",
      "text/plain": [
       "<Figure size 3000x1800 with 1 Axes>"
      ]
     },
     "metadata": {},
     "output_type": "display_data"
    }
   ],
   "source": [
    "#plotting the ts \n",
    "plt.figure(figsize=(10, 6), dpi=300)    # create a new figure, set size and resolution (dpi)\n",
    "plt.plot(df['datetime'],df['LandCover'])   # add data to the plot\n",
    "plt.title('Australia ', fontsize=16)\n",
    "plt.xlabel('Year', fontsize=14)\n",
    "plt.ylabel('Land Cover', fontsize=14)\n",
    "plt.ylim(0, 0.5)"
   ]
  },
  {
   "cell_type": "markdown",
   "id": "62354cdf-609f-487d-be51-9ea306997a69",
   "metadata": {},
   "source": [
    "<a id='usecases'></a> \n",
    "### Use Case Examples"
   ]
  },
  {
   "cell_type": "markdown",
   "id": "9e5b04a9-b2bb-40ed-bb8c-9c75d3494c38",
   "metadata": {},
   "source": [
    "This is the \"meat\" of the notebook, and what will take the majority of the time to present in class. This section should provide:\n",
    "1) A plain-text summary (1-2 paragraphs) of the use case example you have chosen: include the target users and audience, and potential applicability. \n",
    "\n",
    "2) Markdown and code blocks demonstrating how one walks through the desired use case example. This should be similar to the labs we've done in class: you might want to demonstrate how to isolate a particularly interesting time period, then create an image showing a feature you're interested in, for example.\n",
    "\n",
    "3) A discussion of the results and how they might be extended on further analysis. For example, if there are data quality issues which impact the results, you could discuss how these might be mitigated with additional information/analysis.\n",
    "\n",
    "Just keep in mind, you'll have roughly 20 minutes for your full presentation, and that goes surprisingly quickly! Probably 2-3 diagnostics is the most you'll be able to get through (you could try practicing with your group members to get a sense of timing).\n"
   ]
  },
  {
   "cell_type": "markdown",
   "id": "9d07de0d-1e81-442a-a895-7b7fd7906385",
   "metadata": {},
   "source": [
    "<a id='binder'></a> \n",
    "### Create Binder Environment\n",
    "\n",
    "The last step is to create a Binder environment for your project, so that we don't have to spend time configuring everyone's environment each time we switch between group presentations. Instructions are below:\n",
    "\n",
    " - Assemble all of the data needed in your Github repo: Jupyter notebooks, a README file, and any datasets needed (these should be small, if included within the repo). Larger datasets should be stored on a separate server, and access codes included within the Jupyter notebook as discussed above. \n",
    " \n",
    " - Create an _environment_ file: this is a text file which contains information on the packages needed in order to execute your code. The filename should be \"environment.yml\": an example that you can use for the proper syntax is included in this template repo. To determine which packages to include, you'll probably want to start by displaying the packages loaded in your environment: you can use the command `conda list -n [environment_name]` to get a list.\n",
    " \n",
    " More information on environment files can be found here:\n",
    " https://docs.conda.io/projects/conda/en/latest/user-guide/tasks/manage-environments.html#\n",
    "\n",
    " - Create Binder. Use http://mybinder.org to create a  URL for your notebook Binder (you will need to enter your GitHub repo URL). You can also add a Launch Binder button directly to your GitHub repo, by including the following in your README.md:\n",
    "\n",
    "```\n",
    "launch with myBinder\n",
    "[![Binder](https://mybinder.org/badge.svg)](https://mybinder.org/v2/gh/<path to your repo>)\n",
    "```"
   ]
  },
  {
   "cell_type": "markdown",
   "id": "c62c774b-8a7c-4f47-9c07-7f9823c48473",
   "metadata": {},
   "source": [
    "<a id='references'></a> \n",
    "### References\n",
    "\n",
    "List relevant references. Here are some additional resources on creating professional, shareable notebooks you may find useful:\n",
    "\n",
    "1. Notebook sharing guidelines from reproducible-science-curriculum: https://reproducible-science-curriculum.github.io/publication-RR-Jupyter/\n",
    "2. Guide for developing shareable notebooks by Kevin Coakley, SDSC: https://github.com/kevincoakley/sharing-jupyter-notebooks/raw/master/Jupyter-Notebooks-Sharing-Recommendations.pdf\n",
    "3. Guide for sharing notebooks by Andrea Zonca, SDSC: https://zonca.dev/2020/09/how-to-share-jupyter-notebooks.html\n",
    "4. Jupyter Notebook Best Practices: https://towardsdatascience.com/jupyter-notebook-best-practices-f430a6ba8c69\n",
    "5. Introduction to Jupyter templates nbextension: https://towardsdatascience.com/stop-copy-pasting-notebooks-embrace-jupyter-templates-6bd7b6c00b94  \n",
    "    5.1. Table of Contents (Toc2) readthedocs: https://jupyter-contrib-nbextensions.readthedocs.io/en/latest/nbextensions/toc2/README.html  \n",
    "    5.2. Steps to install toc2: https://stackoverflow.com/questions/23435723/installing-ipython-notebook-table-of-contents\n",
    "6. Rule A, Birmingham A, Zuniga C, Altintas I, Huang SC, et al. (2019) Ten simple rules for writing and sharing computational analyses in Jupyter Notebooks. PLOS Computational Biology 15(7): e1007007. https://doi.org/10.1371/journal.pcbi.1007007. Supplementary materials: example notebooks (https://github.com/jupyter-guide/ten-rules-jupyter) and tutorial (https://github.com/ISMB-ECCB-2019-Tutorial-AM4/reproducible-computational-workflows)\n",
    "7. Languages supported by Jupyter kernels: https://github.com/jupyter/jupyter/wiki/Jupyter-kernels\n",
    "8. EarthCube notebooks presented at EC Annual Meeting 2020: https://www.earthcube.org/notebooks\n",
    "9. Manage your Python Virtual Environment with Conda: https://towardsdatascience.com/manage-your-python-virtual-environment-with-conda-a0d2934d5195\n",
    "10. Venv - Creation of Virtual Environments: https://docs.python.org/3/library/venv.html"
   ]
  },
  {
   "cell_type": "code",
   "execution_count": null,
   "id": "e9f10df5-100c-4f4a-a1c3-bd417b524a61",
   "metadata": {},
   "outputs": [],
   "source": []
  }
 ],
 "metadata": {
  "kernelspec": {
   "display_name": "Python 3 (ipykernel)",
   "language": "python",
   "name": "python3"
  },
  "language_info": {
   "codemirror_mode": {
    "name": "ipython",
    "version": 3
   },
   "file_extension": ".py",
   "mimetype": "text/x-python",
   "name": "python",
   "nbconvert_exporter": "python",
   "pygments_lexer": "ipython3",
   "version": "3.10.5"
  }
 },
 "nbformat": 4,
 "nbformat_minor": 5
}
